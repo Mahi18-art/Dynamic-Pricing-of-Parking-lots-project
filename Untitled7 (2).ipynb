{
 "cells": [
  {
   "cell_type": "code",
   "execution_count": null,
   "metadata": {
    "colab": {
     "base_uri": "https://localhost:8080/"
    },
    "id": "6SSizqiHkdrG",
    "outputId": "147bf151-3531-4800-a736-cf0fed1395e4"
   },
   "outputs": [],
   "source": [
    "!pip install pathway bokeh panel --quiet"
   ]
  },
  {
   "cell_type": "code",
   "execution_count": null,
   "metadata": {
    "colab": {
     "base_uri": "https://localhost:8080/",
     "height": 17
    },
    "id": "O2mE7wQ9k6YQ",
    "outputId": "e28f7f02-250f-4e85-bc78-3df975f4bb59"
   },
   "outputs": [],
   "source": [
    "import numpy as np\n",
    "import pandas as pd\n",
    "import matplotlib.pyplot as plt\n",
    "import datetime\n",
    "from datetime import datetime\n",
    "import pathway as pw\n",
    "import bokeh.plotting\n",
    "import panel as pn"
   ]
  },
  {
   "cell_type": "code",
   "execution_count": null,
   "metadata": {
    "colab": {
     "base_uri": "https://localhost:8080/",
     "height": 443
    },
    "id": "0v9R2-1dk_BA",
    "outputId": "ab57f298-0b2c-4cc1-dddd-15086f7f3080"
   },
   "outputs": [],
   "source": [
    "parking_df = pd.read_csv('dataset.csv')\n",
    "parking_df"
   ]
  },
  {
   "cell_type": "markdown",
   "metadata": {
    "id": "YxsDsakwCzTh"
   },
   "source": [
    "Merges date and time into a single datetime column and sorts the data chronologically."
   ]
  },
  {
   "cell_type": "code",
   "execution_count": null,
   "metadata": {
    "id": "9rJ8bDCalCNv"
   },
   "outputs": [],
   "source": [
    "parking_df['Timestamp'] = pd.to_datetime(parking_df['LastUpdatedDate'] + ' ' + parking_df['LastUpdatedTime'],\n",
    "                                  format='%d-%m-%Y %H:%M:%S')\n",
    "parking_df = parking_df.sort_values('Timestamp').reset_index(drop=True)"
   ]
  },
  {
   "cell_type": "markdown",
   "metadata": {
    "id": "7ufIiokjDRHK"
   },
   "source": [
    "Saves a subset of relevant columns to CSV for simulation as a data stream."
   ]
  },
  {
   "cell_type": "code",
   "execution_count": null,
   "metadata": {
    "id": "CsPbrB4zlFSP"
   },
   "outputs": [],
   "source": [
    "parking_df[[\n",
    "    \"SystemCodeNumber\", \"Latitude\", \"Longitude\",\n",
    "    \"Timestamp\", \"Occupancy\", \"Capacity\",\n",
    "    \"QueueLength\", \"TrafficConditionNearby\",\n",
    "    \"IsSpecialDay\", \"VehicleType\"\n",
    "]].to_csv('parking_stream.csv', index=False)"
   ]
  },
  {
   "cell_type": "markdown",
   "metadata": {
    "id": "hpJqsRq5EQ_R"
   },
   "source": [
    "Defines data types for each column used in Pathway streaming."
   ]
  },
  {
   "cell_type": "code",
   "execution_count": null,
   "metadata": {
    "id": "h6INxvTvlJQl"
   },
   "outputs": [],
   "source": [
    "class ParkingSchema(pw.Schema):\n",
    "    SystemCodeNumber: str\n",
    "    Latitude: float\n",
    "    Longitude: float\n",
    "    Timestamp: str\n",
    "    Occupancy: int\n",
    "    Capacity: int\n",
    "    QueueLength: int\n",
    "    TrafficConditionNearby: str\n",
    "    IsSpecialDay: int\n",
    "    VehicleType: str"
   ]
  },
  {
   "cell_type": "markdown",
   "metadata": {
    "id": "ZOBh7sxiE5xy"
   },
   "source": [
    "Simulates a real-time data stream from the CSV file at a given rate."
   ]
  },
  {
   "cell_type": "code",
   "execution_count": null,
   "metadata": {
    "id": "-kNsfVizlMQo"
   },
   "outputs": [],
   "source": [
    "parking_stream= pw.demo.replay_csv(\n",
    "    \"parking_stream.csv\",\n",
    "    schema=ParkingSchema,\n",
    "    input_rate=1000\n",
    ")"
   ]
  },
  {
   "cell_type": "markdown",
   "metadata": {
    "id": "lCZ3uErGGEPv"
   },
   "source": [
    "Parses timestamps and creates time-based features for aggregation."
   ]
  },
  {
   "cell_type": "code",
   "execution_count": null,
   "metadata": {
    "id": "9_ZmgwdclPFu"
   },
   "outputs": [],
   "source": [
    "fmt = \"%Y-%m-%d %H:%M:%S\"\n",
    "stream_with_time = parking_stream.with_columns(\n",
    "    timestamp= parking_stream.Timestamp.dt.strptime(fmt),\n",
    "    day = parking_stream.Timestamp.dt.strptime(fmt).dt.strftime(\"%Y-%m-%dT00:00:00\")\n",
    ")"
   ]
  },
  {
   "cell_type": "markdown",
   "metadata": {
    "id": "aVlP5r8MGJP0"
   },
   "source": [
    "Maps categorical variables to numerical scores."
   ]
  },
  {
   "cell_type": "code",
   "execution_count": null,
   "metadata": {
    "id": "UgFkXfuJlRzu"
   },
   "outputs": [],
   "source": [
    "TRAFFIC_LEVELS = {\n",
    "    \"low\": 1.0,\n",
    "    \"average\": 2.0,\n",
    "    \"high\": 3.0\n",
    "}\n",
    "\n",
    "VEHICLE_WEIGHTS = {\n",
    "    \"car\": 1.5,\n",
    "    \"bike\": 1.0,\n",
    "    \"truck\": 2.0,\n",
    "    \"cycle\":0.5\n",
    "}"
   ]
  },
  {
   "cell_type": "markdown",
   "metadata": {
    "id": "jPEPWsyZHuvW"
   },
   "source": [
    "#MODEL1\n",
    "Applies a daily tumbling window per parking lot to calculate average occupancy and dynamic price based on a base rate."
   ]
  },
  {
   "cell_type": "code",
   "execution_count": null,
   "metadata": {
    "id": "S_I1fsq7leIq"
   },
   "outputs": [],
   "source": [
    "import datetime\n",
    "import pathway as pw\n",
    "\n",
    "ALPHA = 0.1\n",
    "BASE_PRICE = 10.0\n",
    "\n",
    "daily_window = (\n",
    "    stream_with_time\n",
    "    .windowby(\n",
    "        pw.this.timestamp,\n",
    "        instance=pw.this.SystemCodeNumber,\n",
    "        window=pw.temporal.tumbling(datetime.timedelta(days=1)),\n",
    "        behavior=pw.temporal.exactly_once_behavior()\n",
    "    )\n",
    "    .reduce(\n",
    "        SystemCodeNumber = pw.this._pw_instance,\n",
    "        timestamp= pw.this._pw_window_end,\n",
    "        occ_sum = pw.reducers.sum(pw.this.Occupancy),\n",
    "        occ_count = pw.reducers.count(),\n",
    "        cap = pw.reducers.max(pw.this.Capacity)\n",
    "    )\n",
    "    .with_columns(\n",
    "        occ = pw.this.occ_sum / pw.this.occ_count,\n",
    "        price = BASE_PRICE + ALPHA * ((pw.this.occ_sum / pw.this.occ_count) / pw.this.cap)\n",
    "    )\n",
    ")"
   ]
  },
  {
   "cell_type": "markdown",
   "metadata": {
    "id": "WKjPhD_4Hz_C"
   },
   "source": [
    "Exports the dynamic prices to CSV."
   ]
  },
  {
   "cell_type": "code",
   "execution_count": null,
   "metadata": {
    "colab": {
     "base_uri": "https://localhost:8080/"
    },
    "id": "16q5fYwSliBt",
    "outputId": "e16d7101-d3c1-49f9-868b-d849c4149a3f"
   },
   "outputs": [],
   "source": [
    "pw.io.csv.write(daily_window, 'price_daily_per_lot.csv')"
   ]
  },
  {
   "cell_type": "markdown",
   "metadata": {
    "id": "4qBYY6tMH7YI"
   },
   "source": [
    "Executes the entire stream processing pipeline."
   ]
  },
  {
   "cell_type": "code",
   "execution_count": null,
   "metadata": {
    "colab": {
     "base_uri": "https://localhost:8080/",
     "height": 35,
     "referenced_widgets": [
      "fc790119462d45fca86960b3389a09f8",
      "5ff78d409f14412cb1193cfb9f992973"
     ]
    },
    "id": "5zRQpz10llIF",
    "outputId": "c70f36a3-105f-4da7-9610-b3c1a11b9f05"
   },
   "outputs": [],
   "source": [
    "pw.run()"
   ]
  },
  {
   "cell_type": "code",
   "execution_count": null,
   "metadata": {
    "id": "Kxoe2ab-l2jY"
   },
   "outputs": [],
   "source": [
    "from bokeh.plotting import figure, show, output_notebook\n",
    "from bokeh.models import ColumnDataSource, HoverTool"
   ]
  },
  {
   "cell_type": "markdown",
   "metadata": {
    "id": "hRPFNOUrLDLQ"
   },
   "source": [
    "Activate Panel in notebook"
   ]
  },
  {
   "cell_type": "code",
   "execution_count": null,
   "metadata": {
    "colab": {
     "base_uri": "https://localhost:8080/",
     "height": 17
    },
    "id": "IF-v99_hl5iJ",
    "outputId": "bc8ef3e4-40ab-4839-b3fd-c313be27885a"
   },
   "outputs": [],
   "source": [
    "pn.extension()\n",
    "output_notebook()"
   ]
  },
  {
   "cell_type": "code",
   "execution_count": null,
   "metadata": {
    "id": "gB0QP-Bxl-br"
   },
   "outputs": [],
   "source": [
    "parking_df = pd.read_csv(\"price_daily_per_lot.csv\")\n"
   ]
  },
  {
   "cell_type": "code",
   "execution_count": null,
   "metadata": {
    "id": "0DwdBTyfdcJF"
   },
   "outputs": [],
   "source": [
    "parking_df[\"timestamp\"] = pd.to_datetime(parking_df[\"timestamp\"])\n",
    "parking_df = parking_df.sort_values([\"SystemCodeNumber\", \"timestamp\"])"
   ]
  },
  {
   "cell_type": "markdown",
   "metadata": {
    "id": "n3qFP345LWb2"
   },
   "source": [
    " Store individual Bokeh panes"
   ]
  },
  {
   "cell_type": "code",
   "execution_count": null,
   "metadata": {
    "id": "x-H6fYP6mI8I"
   },
   "outputs": [],
   "source": [
    "plots = []"
   ]
  },
  {
   "cell_type": "markdown",
   "metadata": {
    "id": "c6ziru72LfYO"
   },
   "source": [
    "Loop over each unique lot and create a figure"
   ]
  },
  {
   "cell_type": "code",
   "execution_count": null,
   "metadata": {
    "colab": {
     "base_uri": "https://localhost:8080/"
    },
    "id": "cHmkM1RcmPjq",
    "outputId": "5074ebef-8ab3-4868-94b1-24feaa092f81"
   },
   "outputs": [],
   "source": [
    "for lot in parking_df[\"SystemCodeNumber\"].unique():\n",
    "    lot_data = parking_df[parking_df[\"SystemCodeNumber\"] == lot]\n",
    "    source = ColumnDataSource(lot_data)\n",
    "\n",
    "    plot_obj = figure(\n",
    "        height=300,\n",
    "        width=900,\n",
    "        x_axis_type=\"datetime\",\n",
    "        title=f\"Dynamic Price for Parking Lot {lot}\",\n",
    "        x_axis_label=\"Date\",\n",
    "        y_axis_label=\"Price\",\n",
    "        tools=\"pan,wheel_zoom,box_zoom,reset,save\"\n",
    "    )\n",
    "\n",
    "    plot_obj.line(x=\"timestamp\", y=\"price\", source=source, line_width=2, color=\"navy\", legend_label=f\"Lot {lot}\")\n",
    "    plot_obj.circle(x=\"timestamp\", y=\"price\", source=source, size=5, color=\"red\")\n",
    "\n",
    "    plot_obj.add_tools(HoverTool(\n",
    "        tooltips=[\n",
    "            (\"Lot\", \"@SystemCodeNumber\"),\n",
    "            (\"Date\", \"@t{%F}\"),\n",
    "            (\"Price\", \"@price{0.00}\")\n",
    "        ],\n",
    "        formatters={\"@t\": \"datetime\"},\n",
    "        mode=\"vline\"\n",
    "    ))\n",
    "\n",
    "    plot_obj.legend.visible = False  # Optional: hide legend for clarity\n",
    "    plots.append(pn.pane.Bokeh(plot_obj))\n"
   ]
  },
  {
   "cell_type": "markdown",
   "metadata": {
    "id": "7EAI0F0FfcXT"
   },
   "source": [
    "Display all graphs in a scrollable vertical layout"
   ]
  },
  {
   "cell_type": "code",
   "execution_count": null,
   "metadata": {
    "colab": {
     "base_uri": "https://localhost:8080/",
     "height": 1000
    },
    "id": "e4bf8ycZmU-h",
    "outputId": "8c77dd1c-3d77-4fa4-b63a-5f91792adb02"
   },
   "outputs": [],
   "source": [
    "pn.Column(*plots).servable()"
   ]
  },
  {
   "cell_type": "markdown",
   "metadata": {
    "id": "d01PfH0VLlF_"
   },
   "source": []
  },
  {
   "cell_type": "markdown",
   "metadata": {
    "id": "vxwUMRIalej_"
   },
   "source": [
    "#MODEL2"
   ]
  },
  {
   "cell_type": "markdown",
   "metadata": {
    "id": "PgEZr3LYliCK"
   },
   "source": [
    "defining the constants"
   ]
  },
  {
   "cell_type": "code",
   "execution_count": null,
   "metadata": {
    "id": "WbvilSk7mq_V"
   },
   "outputs": [],
   "source": [
    "ALPHA = 0.4\n",
    "BETA = 0.05\n",
    "GAMMA = 0.1\n",
    "DELTA = 0.1\n",
    "EPSILON = 0.1\n",
    "LAMBDA = 0.5\n",
    "BASE_PRICE = 10.0"
   ]
  },
  {
   "cell_type": "markdown",
   "metadata": {
    "id": "sWm3TarqLmjn"
   },
   "source": [
    "Applies more nuanced pricing using traffic, queue length, vehicle type, special days, etc."
   ]
  },
  {
   "cell_type": "code",
   "execution_count": null,
   "metadata": {
    "id": "ucBN2JSrmyH5"
   },
   "outputs": [],
   "source": [
    "stream_mapped = (\n",
    "    stream_with_time\n",
    "    .with_columns(\n",
    "        traffic_num = pw.if_else(\n",
    "            pw.this.TrafficConditionNearby == \"low\", 1.0,\n",
    "            pw.if_else(\n",
    "                pw.this.TrafficConditionNearby == \"average\", 2.0,\n",
    "                pw.if_else(\n",
    "                    pw.this.TrafficConditionNearby == \"high\", 3.0,\n",
    "                    2.0\n",
    "                )\n",
    "            )\n",
    "        ),\n",
    "        vehicle_weight = pw.if_else(\n",
    "            pw.this.VehicleType == \"car\", 1.5,\n",
    "            pw.if_else(\n",
    "                pw.this.VehicleType == \"bike\", 1.0,\n",
    "                pw.if_else(\n",
    "                    pw.this.VehicleType == \"truck\", 2.0,\n",
    "                    pw.if_else(\n",
    "                        pw.this.VehicleType == \"cycle\", 0.5,\n",
    "                        1.0\n",
    "                    )\n",
    "                )\n",
    "            )\n",
    "        )\n",
    "    )\n",
    ")\n"
   ]
  },
  {
   "cell_type": "code",
   "execution_count": null,
   "metadata": {
    "id": "RAnVlKnqm3gV"
   },
   "outputs": [],
   "source": [
    "demand_window = (\n",
    "    stream_mapped.windowby(\n",
    "        pw.this.timestamp,\n",
    "        instance=pw.this.SystemCodeNumber,\n",
    "        window=pw.temporal.tumbling(datetime.timedelta(days=1)),\n",
    "        behavior=pw.temporal.exactly_once_behavior()\n",
    "    )\n",
    "    .reduce(\n",
    "        SystemCodeNumber = pw.reducers.min(pw.this.SystemCodeNumber),\n",
    "        timestamp = pw.this._pw_window_end,\n",
    "        occ_sum = pw.reducers.sum(pw.this.Occupancy),\n",
    "        occ_count = pw.reducers.count(),\n",
    "        cap = pw.reducers.max(pw.this.Capacity),\n",
    "        queue_sum = pw.reducers.sum(pw.this.QueueLength),\n",
    "        traffic_sum = pw.reducers.sum(pw.this.traffic_num),\n",
    "        is_special = pw.reducers.max(pw.this.IsSpecialDay),\n",
    "        vehicle_weight_sum = pw.reducers.sum(pw.this.vehicle_weight),\n",
    "        row_count = pw.reducers.count()\n",
    "    )\n",
    ")\n"
   ]
  },
  {
   "cell_type": "code",
   "execution_count": null,
   "metadata": {
    "id": "Q2x-1psOnLMm"
   },
   "outputs": [],
   "source": [
    "result = (\n",
    "    demand_window\n",
    "    .with_columns(\n",
    "        occ_rate = pw.this.occ_sum / pw.this.occ_count,\n",
    "        queue_avg = pw.this.queue_sum / pw.this.row_count,\n",
    "        traffic_avg = pw.this.traffic_sum / pw.this.row_count,\n",
    "        vehicle_weight_avg = pw.this.vehicle_weight_sum / pw.this.row_count\n",
    "    )\n",
    ")\n"
   ]
  },
  {
   "cell_type": "code",
   "execution_count": null,
   "metadata": {
    "id": "LcT6qkv9nsyU"
   },
   "outputs": [],
   "source": [
    "result = (\n",
    "    result\n",
    "    .with_columns(\n",
    "        demand_raw = (\n",
    "            ALPHA * (pw.this.occ_rate / pw.this.cap)\n",
    "            + BETA * pw.this.queue_avg\n",
    "            - GAMMA * pw.this.traffic_avg\n",
    "            + DELTA * pw.this.is_special\n",
    "            + EPSILON * pw.this.vehicle_weight_avg\n",
    "        )\n",
    "    )\n",
    ")"
   ]
  },
  {
   "cell_type": "code",
   "execution_count": null,
   "metadata": {
    "id": "U65VznEjnwh_"
   },
   "outputs": [],
   "source": [
    "result = (\n",
    "    result\n",
    "    .with_columns(\n",
    "        demand_norm = pw.if_else(\n",
    "            pw.this.demand_raw < 0, 0.0,\n",
    "            pw.if_else(\n",
    "                pw.this.demand_raw > 1, 1.0,\n",
    "                pw.this.demand_raw\n",
    "            )\n",
    "        )\n",
    "    )\n",
    ")\n"
   ]
  },
  {
   "cell_type": "code",
   "execution_count": null,
   "metadata": {
    "id": "5lUeRit9nz4L"
   },
   "outputs": [],
   "source": [
    "result = (\n",
    "    result\n",
    "    .with_columns(\n",
    "        price_raw = BASE_PRICE * (1 + LAMBDA * pw.this.demand_norm)\n",
    "    )\n",
    ")"
   ]
  },
  {
   "cell_type": "code",
   "execution_count": null,
   "metadata": {
    "id": "3EvAbpmRn2gy"
   },
   "outputs": [],
   "source": [
    "result = (\n",
    "    result\n",
    "    .with_columns(\n",
    "        price = pw.if_else(\n",
    "            pw.this.price_raw < 0.5 * BASE_PRICE, 0.5 * BASE_PRICE,\n",
    "            pw.if_else(\n",
    "                pw.this.price_raw > 2 * BASE_PRICE, 2 * BASE_PRICE,\n",
    "                pw.this.price_raw\n",
    "            )\n",
    "        )\n",
    "    )\n",
    ")\n"
   ]
  },
  {
   "cell_type": "code",
   "execution_count": null,
   "metadata": {
    "id": "lzot3OZtn657"
   },
   "outputs": [],
   "source": [
    "pw.io.csv.write(result, \"baseline_model.csv\")"
   ]
  },
  {
   "cell_type": "code",
   "execution_count": null,
   "metadata": {
    "colab": {
     "base_uri": "https://localhost:8080/",
     "height": 35,
     "referenced_widgets": [
      "9bd10d16260647888e55b05fc91d74cd",
      "ecd6d73c33dc457e92fa7b66c466a0a9"
     ]
    },
    "id": "cdQLByIIn-gw",
    "outputId": "8e765fdd-35bb-400f-b65d-816225b79795"
   },
   "outputs": [],
   "source": [
    "pw.run()"
   ]
  },
  {
   "cell_type": "code",
   "execution_count": null,
   "metadata": {
    "id": "dExwFGcboLJ1"
   },
   "outputs": [],
   "source": [
    "from bokeh.plotting import figure, show, output_notebook\n",
    "from bokeh.models import ColumnDataSource, HoverTool\n",
    "from bokeh.palettes import Category10, Category20"
   ]
  },
  {
   "cell_type": "code",
   "execution_count": null,
   "metadata": {
    "colab": {
     "base_uri": "https://localhost:8080/",
     "height": 17
    },
    "id": "A5_hDCtvobWn",
    "outputId": "37bc1689-0e2d-4ccd-d458-b75beeb89292"
   },
   "outputs": [],
   "source": [
    "pn.extension()\n",
    "output_notebook()"
   ]
  },
  {
   "cell_type": "code",
   "execution_count": null,
   "metadata": {
    "id": "9MEwNVXqodnj"
   },
   "outputs": [],
   "source": [
    "parking_df= pd.read_csv(\"baseline_model.csv\")\n",
    "parking_df[\"timestamp\"] = pd.to_datetime(parking_df[\"timestamp\"])\n",
    "parking_df = parking_df.sort_values([\"SystemCodeNumber\", \"timestamp\"])"
   ]
  },
  {
   "cell_type": "markdown",
   "metadata": {
    "id": "pkoFc67TMbjt"
   },
   "source": [
    " Create a list to hold individual plots"
   ]
  },
  {
   "cell_type": "code",
   "execution_count": null,
   "metadata": {
    "id": "0ot195WSogqp"
   },
   "outputs": [],
   "source": [
    "plots = []"
   ]
  },
  {
   "cell_type": "markdown",
   "metadata": {
    "id": "MGBVVJR0MWp0"
   },
   "source": [
    "Loop over each lot and generate separate plots"
   ]
  },
  {
   "cell_type": "code",
   "execution_count": null,
   "metadata": {
    "colab": {
     "base_uri": "https://localhost:8080/"
    },
    "id": "2AnswDb9ojqe",
    "outputId": "4bc46eb8-22c2-458b-cb51-69656779bf54"
   },
   "outputs": [],
   "source": [
    "for lot in parking_df[\"SystemCodeNumber\"].unique():\n",
    "    lot_data = parking_df[parking_df[\"SystemCodeNumber\"] == lot]\n",
    "    source = ColumnDataSource(lot_data)\n",
    "\n",
    "    plot_obj = figure(\n",
    "        height=300,\n",
    "        width=800,\n",
    "        x_axis_type=\"datetime\",\n",
    "        title=f\"Price Trend for Lot {lot}\",\n",
    "        x_axis_label=\"Date\",\n",
    "        y_axis_label=\"Price\",\n",
    "        tools=\"pan,wheel_zoom,box_zoom,reset,save\"\n",
    "    )\n",
    "\n",
    "    plot_obj.line(x=\"timestamp\", y=\"price\", source=source, line_width=2, color=\"navy\")\n",
    "    plot_obj.circle(x=\"timestamp\", y=\"price\", source=source, size=5, color=\"red\")\n",
    "\n",
    "    plot_obj.add_tools(HoverTool(\n",
    "        tooltips=[\n",
    "            (\"Date\", \"@t{%F}\"),\n",
    "            (\"Price\", \"@price{0.00}\"),\n",
    "        ],\n",
    "        formatters={\"@t\": \"datetime\"},\n",
    "        mode=\"vline\"\n",
    "    ))\n",
    "\n",
    "    plots.append(pn.pane.Bokeh(plot_obj))"
   ]
  },
  {
   "cell_type": "markdown",
   "metadata": {
    "id": "PVfhE7zbMN5f"
   },
   "source": [
    " Display all plots in a scrollable layout"
   ]
  },
  {
   "cell_type": "code",
   "execution_count": null,
   "metadata": {
    "colab": {
     "base_uri": "https://localhost:8080/",
     "height": 1000
    },
    "id": "tdKKMgKeoqiQ",
    "outputId": "c13f213c-f226-4bf2-c9c8-3f3f64ed0843"
   },
   "outputs": [],
   "source": [
    "pn.Column(*plots).servable()"
   ]
  },
  {
   "cell_type": "code",
   "execution_count": null,
   "metadata": {
    "colab": {
     "base_uri": "https://localhost:8080/",
     "height": 1000
    },
    "id": "FOjRpDLD56DT",
    "outputId": "45571535-18af-473d-8af0-5bf974025df4"
   },
   "outputs": [],
   "source": [
    "import pandas as pd\n",
    "import panel as pn\n",
    "from bokeh.plotting import figure\n",
    "from bokeh.models import ColumnDataSource, HoverTool\n",
    "from IPython.display import display\n",
    "\n",
    "pn.extension()\n",
    "\n",
    "# Load both datasets\n",
    "my_df = pd.read_csv(\"baseline_model.csv\")\n",
    "competitor_df = pd.read_csv(\"price_daily_per_lot.csv\")\n",
    "\n",
    "# Rename competitor column for clarity\n",
    "competitor_df.rename(columns={\"price\": \"competitor_price\"}, inplace=True)\n",
    "\n",
    "# Align timestamp formats to avoid mismatches\n",
    "my_df[\"timestamp\"] = pd.to_datetime(my_df[\"timestamp\"]).dt.floor(\"D\")\n",
    "competitor_df[\"timestamp\"] = pd.to_datetime(competitor_df[\"timestamp\"]).dt.floor(\"D\")\n",
    "\n",
    "# Merge both datasets on SystemCodeNumber and timestamp\n",
    "merged_df = pd.merge(my_df, competitor_df, on=[\"SystemCodeNumber\", \"timestamp\"], how=\"inner\")\n",
    "\n",
    "# Confirm data validity\n",
    "print(\"Lots in merged data:\", merged_df[\"SystemCodeNumber\"].nunique())\n",
    "print(\"Total records in merged data:\", len(merged_df))\n",
    "\n",
    "# Sort the data for plotting\n",
    "merged_df = merged_df.sort_values([\"SystemCodeNumber\", \"timestamp\"])\n",
    "\n",
    "# Create one plot per parking lot\n",
    "plots = []\n",
    "for lot in merged_df[\"SystemCodeNumber\"].unique():\n",
    "    lot_data = merged_df[merged_df[\"SystemCodeNumber\"] == lot]\n",
    "    source = ColumnDataSource(lot_data)\n",
    "\n",
    "    plot_obj = figure(\n",
    "        height=300,\n",
    "        width=900,\n",
    "        x_axis_type=\"datetime\",\n",
    "        title=f\"Dynamic Pricing vs Competitor — Lot {lot}\",\n",
    "        x_axis_label=\"Date\",\n",
    "        y_axis_label=\"Price (₹)\",\n",
    "        tools=\"pan,wheel_zoom,box_zoom,reset,save\"\n",
    "    )\n",
    "\n",
    "    # Your price\n",
    "    plot_obj.line(x=\"timestamp\", y=\"price\", source=source, line_width=2, color=\"navy\", legend_label=\"Your Price\")\n",
    "    plot_obj.circle(x=\"timestamp\", y=\"price\", source=source, size=4, color=\"navy\")\n",
    "\n",
    "    # Competitor price\n",
    "    plot_obj.line(x=\"timestamp\", y=\"competitor_price\", source=source, line_width=2, color=\"orange\", legend_label=\"Competitor Price\")\n",
    "    plot_obj.circle(x=\"timestamp\", y=\"competitor_price\", source=source, size=4, color=\"orange\")\n",
    "\n",
    "    # Hover tool for interaction\n",
    "    plot_obj.add_tools(HoverTool(\n",
    "        tooltips=[\n",
    "            (\"Date\", \"@timestamp{%F}\"),\n",
    "            (\"Your Price\", \"@price{0.00}\"),\n",
    "            (\"Competitor Price\", \"@competitor_price{0.00}\")\n",
    "        ],\n",
    "        formatters={\"@timestamp\": \"datetime\"},\n",
    "        mode=\"vline\"\n",
    "    ))\n",
    "\n",
    "    plot_obj.legend.location = \"top_left\"\n",
    "    plot_obj.legend.click_policy = \"hide\"\n",
    "\n",
    "    plots.append(pn.pane.Bokeh(plot_obj))\n",
    "\n",
    "# Display all plots in scrollable column\n",
    "display(pn.Column(*plots))\n"
   ]
  }
 ],
 "metadata": {
  "colab": {
   "provenance": []
  },
  "kernelspec": {
   "display_name": "Python 3",
   "name": "python3"
  },
  "language_info": {
   "name": "python"
  }
 },
 "nbformat": 4,
 "nbformat_minor": 0
}
